{
  "cells": [
    {
      "cell_type": "code",
      "execution_count": null,
      "metadata": {
        "colab": {
          "base_uri": "https://localhost:8080/"
        },
        "id": "Z7897kNEpKLa",
        "outputId": "4dafb24c-74eb-4edd-ab17-d0f6d5cf585c"
      },
      "outputs": [
        {
          "name": "stdout",
          "output_type": "stream",
          "text": [
            "Wynik funkcji dla a=2, b=2, c=2 (-2.79128784747792, 1.79128784747792)\n"
          ]
        }
      ],
      "source": [
        "#Zadanie 1.\n",
        "import math as mt\n",
        "def pierwiastki(a, b, c):\n",
        "  delta = b*b - 4*a*c\n",
        "  if(delta < 0):\n",
        "    return ()\n",
        "  sqrtdelta = mt.sqrt(delta)\n",
        "  if(delta == 0):\n",
        "    return ((-b)/(2*a))\n",
        "  return ((-b-sqrtdelta)/(2*a), (-b+sqrtdelta)/(2*a))\n",
        "print(\"Wynik funkcji dla a=2, b=2, c=2\", pierwiastki(2,2,-10))"
      ]
    },
    {
      "cell_type": "markdown",
      "metadata": {
        "id": "5jD6PaSxVFET"
      },
      "source": [
        "Dla większości wyników nadpisanie zmiennej delta wartością jej pierwiastka działało bez zarzutu. Jednak dla jednego przypadku a=2 b=2 i c=-10 funkcja zwracała błędne wartości. Kiedy do przechowywania wartości średniej wykorzystałem całkowicie nową zmienną sqrtdelta zauważyłem, że błąd przestał się pojawiać. Najwyraźniej może to być spowodowane tym, iż typ który był automatycznie przypisany dla wartości średniej był niewystarczającym do utrzymania odpowiedniej dokładności dla wyniku pierwiastkowania tej delty."
      ]
    },
    {
      "cell_type": "code",
      "execution_count": null,
      "metadata": {
        "colab": {
          "base_uri": "https://localhost:8080/"
        },
        "id": "s9s-NEjaWSPF",
        "outputId": "443699dd-6a88-49b9-d31c-ca505799da5f"
      },
      "outputs": [
        {
          "name": "stdout",
          "output_type": "stream",
          "text": [
            "Podaj minimalną wartość liczby do zgadnięcia 1\n",
            "Podaj maksymalną wartość liczby do zgadnięcia 3\n",
            "Podaj maksymalną ilość prób 6\n",
            "Podaj liczbę 0\n",
            "Zgadujesz liczby z zakresu < 1 , 3 >. Podaj więc liczbę z tego zakresu!\n",
            "Podaj liczbę 1\n",
            "Niestety podana przez Ciebie liczba jest niepoprawna :(\n",
            "Nie poddawaj się!\n",
            "Pozostało Ci jeszcze 5 prób.\n",
            "Podpowiedź: Twoja liczba jest Mniejsza od wylosowanej.\n",
            "Podaj liczbę 2\n",
            "Niestety podana przez Ciebie liczba jest niepoprawna :(\n",
            "Nie poddawaj się!\n",
            "Pozostało Ci jeszcze 4 prób.\n",
            "Podpowiedź: Twoja liczba jest Mniejsza od wylosowanej.\n",
            "Podaj liczbę 3\n",
            "Gratulacje!!!\n",
            "Udało Ci się zgadnąć poprawną liczbę!!!\n",
            "Przy 3 podejściu!\n"
          ]
        }
      ],
      "source": [
        "#zadanie 2.\n",
        "#Gra w odgadywanie liczby\n",
        "#features:\n",
        "#wybór zakresu liczby\n",
        "#wybór maksymalnej ilości prób\n",
        "import random\n",
        "def setup():\n",
        "  while(True):\n",
        "    minn = int(input(\"Podaj minimalną wartość liczby do zgadnięcia \"))\n",
        "    maxx = int(input(\"Podaj maksymalną wartość liczby do zgadnięcia \"))\n",
        "    chances = int(input(\"Podaj maksymalną ilość prób \"))\n",
        "    if(max > min and chances >= 1):\n",
        "      number = random.randint(minn,maxx)\n",
        "      return (number,minn, maxx, chances)\n",
        "def showWinInfo(tryNumber):\n",
        "  print(\"Gratulacje!!!\")\n",
        "  print(\"Udało Ci się zgadnąć poprawną liczbę!!!\")\n",
        "  print(\"Przy\", tryNumber, \"podejściu!\")\n",
        "def showLoseInfo(tryNumber, chances, guess, number):\n",
        "  print(\"Niestety podana przez Ciebie liczba jest niepoprawna :(\")\n",
        "  print(\"Nie poddawaj się!\")\n",
        "  print(\"Pozostało Ci jeszcze\",chances-tryNumber, \"prób.\")\n",
        "  labelBegin = \"Podpowiedź: Twoja liczba jest\"\n",
        "  labelEnd = \"od wylosowanej.\"\n",
        "  if(guess > number):\n",
        "    print(labelBegin,\"większa\",labelEnd)\n",
        "  else:\n",
        "    print(labelBegin,\"Mniejsza\",labelEnd)\n",
        "def game():\n",
        "  number,minn, maxx, chances = setup()\n",
        "  for tryNumber in range(1,chances+1,1):\n",
        "    while(True):\n",
        "      guess = int(input(\"Podaj liczbę \"))\n",
        "      if(guess >= minn and guess <= maxx):\n",
        "        break\n",
        "      print(\"Zgadujesz liczby z zakresu <\",minn,\",\",maxx,\">. Podaj więc liczbę z tego zakresu!\")\n",
        "    if(guess == number):\n",
        "      showWinInfo(tryNumber)\n",
        "      break\n",
        "    else:\n",
        "      if(tryNumber < chances):\n",
        "        showLoseInfo(tryNumber, chances, guess, number)\n",
        "      else:\n",
        "        print(\"GAME OVER\")\n",
        "\n",
        "#odpalenie gry\n",
        "game()\n"
      ]
    },
    {
      "cell_type": "code",
      "execution_count": null,
      "metadata": {
        "colab": {
          "base_uri": "https://localhost:8080/"
        },
        "id": "Ki448E5GH9XC",
        "outputId": "de24e59d-89a0-46e0-d848-d3b16c99a5c8"
      },
      "outputs": [
        {
          "name": "stdout",
          "output_type": "stream",
          "text": [
            "Podaj ciąg ATGC:   ATAGCATAGG\n",
            "Długość ciągu: 10\n",
            "Podany cią jest poprawny.\n",
            "Oryginalny ciąg:\n",
            "ATAGCATAGG\n",
            "Komplementarny ciąg:\n",
            "TATCGTATCC\n",
            "Oryginał: ATAGCATAGG\n",
            "Odwrócony: GGATACGATA\n",
            "Liczba zasad: A: 4 T: 2 G: 3 C: 1\n",
            "Ilość wystąpień GG: 1\n",
            "Ilość wystąpień ATA: 2\n"
          ]
        }
      ],
      "source": [
        "#zadanie 3.\n",
        "#a\n",
        "def stringLength(elm):\n",
        "  return len(elm)\n",
        "#b\n",
        "def checkIfGoodString(elm):\n",
        "  for x in elm:\n",
        "    if(x != \"A\" and x!= \"T\" and x!= \"G\" and x!= \"C\"):\n",
        "      return False\n",
        "  return True\n",
        "#c\n",
        "def createCompString(elm):\n",
        "  result = \"\"\n",
        "  for x in elm:\n",
        "    match x:\n",
        "      case \"A\":\n",
        "        result += \"T\"\n",
        "      case \"T\":\n",
        "        result += \"A\"\n",
        "      case \"G\":\n",
        "        result += \"C\"\n",
        "      case \"C\":\n",
        "        result += \"G\"\n",
        "  return result\n",
        "#d\n",
        "def createReverseString(elm):\n",
        "  result = \"\"\n",
        "  size = len(elm)\n",
        "  i=size-1\n",
        "  while(i>=0):\n",
        "    result += elm[i]\n",
        "    i-=1\n",
        "  return result\n",
        "#e\n",
        "def countBases(elm):\n",
        "  Acount = 0\n",
        "  Tcount = 0\n",
        "  Gcount = 0\n",
        "  Ccount = 0\n",
        "  for x in elm:\n",
        "    match x:\n",
        "      case \"A\":\n",
        "        Acount+=1\n",
        "      case \"T\":\n",
        "        Tcount+=1\n",
        "      case \"G\":\n",
        "        Gcount+=1\n",
        "      case \"C\":\n",
        "        Ccount+=1\n",
        "  return (Acount,Tcount,Gcount,Ccount)\n",
        "#f\n",
        "def countGG(elm):\n",
        "  count =0;\n",
        "  i=1\n",
        "  while(i<len(elm)):\n",
        "    if(elm[i-1] == \"G\" and elm[i] == \"G\"):\n",
        "      count+=1\n",
        "      i+=2\n",
        "    else:\n",
        "      i+=1\n",
        "  return count\n",
        "#g\n",
        "def countATA(elm):\n",
        "  count =0;\n",
        "  i=2\n",
        "  while(i<len(elm)):\n",
        "    if(elm[i-2] == \"A\" and elm[i-1] == \"T\" and elm[i]==\"A\"):\n",
        "      count+=1\n",
        "      i+=3\n",
        "    else:\n",
        "      i+=1\n",
        "  return count\n",
        "\n",
        "def WorkWithATGCString(elm):\n",
        "  #a\n",
        "  print(\"Długość ciągu:\",stringLength(elm))\n",
        "  #b\n",
        "  if(checkIfGoodString(elm)):\n",
        "    print(\"Podany ciąg jest poprawny.\")\n",
        "  else:\n",
        "    print(\"Podany ciąg jest niepoprawny\")\n",
        "  #c\n",
        "  elmComp = createCompString(elm)\n",
        "  print(\"Oryginalny ciąg:\")\n",
        "  print(elm)\n",
        "  print(\"Komplementarny ciąg:\")\n",
        "  print(elmComp)\n",
        "  #d\n",
        "  elmRev = createReverseString(elm)\n",
        "  print(\"Oryginał:\", elm)\n",
        "  print(\"Odwrócony:\",elmRev)\n",
        "  #e\n",
        "  Acount,Tcount,Gcount,Ccount = countBases(elm)\n",
        "  print(\"Liczba zasad: A:\",Acount,\"T:\",Tcount,\"G:\",Gcount,\"C:\",Ccount)\n",
        "  #f\n",
        "  print(\"Ilość wystąpień GG:\",countGG(elm))\n",
        "  #g\n",
        "  print(\"Ilość wystąpień ATA:\",countATA(elm))\n",
        "\n",
        "ATGCstring = input(\"Podaj ciąg ATGC:   \")\n",
        "WorkWithATGCString(ATGCstring)\n",
        "\n"
      ]
    },
    {
      "cell_type": "code",
      "execution_count": null,
      "metadata": {
        "id": "bdj2YPZUWY4W"
      },
      "outputs": [],
      "source": []
    },
    {
      "cell_type": "markdown",
      "metadata": {
        "id": "Vl2gDP0SYxAL"
      },
      "source": [
        "Zadania dla biblioteki numpy:"
      ]
    },
    {
      "cell_type": "code",
      "execution_count": 56,
      "metadata": {
        "colab": {
          "base_uri": "https://localhost:8080/"
        },
        "id": "TRovTaa6Y5xq",
        "outputId": "b2e6087a-421f-4dc5-9194-6610dfff1bca"
      },
      "outputs": [
        {
          "output_type": "stream",
          "name": "stdout",
          "text": [
            "[[ 392   21 -625   55   20   24 -117   92  227   82]\n",
            " [-140  347 -595  292 -559 -393 -572 -591  162  -80]\n",
            " [ -18  393  292 -624    6  112 -159  126  -98 -424]\n",
            " [-486  181 -266   28 -254 -532  377 -613  354  208]\n",
            " [ -76  175   52 -158  112   38  401  257 -151  180]\n",
            " [-272   98   84 -355   48 -298 -347 -585   81  231]\n",
            " [-114  142  363  182 -353  -93 -267 -140  133  366]\n",
            " [-219 -120  100  225  160 -663  236 -605 -542 -428]\n",
            " [ 138 -517  361 -228 -680  -85  176  124 -510 -402]\n",
            " [ 308  -38 -463 -549  -45 -416 -187 -578 -113 -468]]\n",
            "Min:  -680 , Max: 401\n"
          ]
        }
      ],
      "source": [
        "#zadanie 1\n",
        "import numpy as np\n",
        "#losowa macierz 10x10:\n",
        "mat = np.random.randint(np.random.randint(-1000,1),np.random.randint(1,1002),size= (10,10))\n",
        "print(mat)\n",
        "minn = mat[0,0]\n",
        "maxx = mat[0,0]\n",
        "for i in range(0,10,1):\n",
        "  for k in range(0,10,1):\n",
        "    if(mat[i,k] < minn):\n",
        "      minn = mat[i,k]\n",
        "    elif(mat[i,k] > maxx):\n",
        "      maxx = mat[i,k]\n",
        "print(\"Min: \",minn,\", Max:\",maxx)"
      ]
    },
    {
      "cell_type": "markdown",
      "source": [
        "Generuję losową macierz za pomocą funkcji randint() z biblioteki numpy z namespace random. Zauważyłem, że kiedy zakres pozostawał ustawiony stale na <-1000,1000> (randint(-1000,1001)) to wyniki były bardzo powtarzalne minimu większość czasu było w okolicach -900 i max również w okolicach 900.\n",
        "Zastosowałem więc losowe zakresy z tych przedziałów wię teraz maksymalny zakres jaki może się wylosować to <-1000,1000> a minimalny to cała macierz wypełniona zerami. Wyniki teraz nie są aż tak powtarzalne."
      ],
      "metadata": {
        "id": "DKA8qRuGcsOX"
      }
    },
    {
      "cell_type": "code",
      "source": [
        "#zadanie 2\n",
        "import numpy as np\n",
        "\n",
        "def maxOfRowsAndCols(mat):\n",
        "  sizeRows = len(mat)\n",
        "  sizeCols = len(mat[0])\n",
        "  maxFromRows = np.zeros((sizeRows), dtype= np.int32)\n",
        "  maxFromCols = np.zeros((sizeCols), dtype= np.int32)\n",
        "  for i in range(0,sizeRows,1):\n",
        "    maxFromRows[i] = mat[i,0]\n",
        "  for i in range(0,sizeCols,1):\n",
        "    maxFromCols[i] = mat[0,i]\n",
        "  for i in range(0,sizeRows,1):\n",
        "    for j in range(0,sizeCols,1):\n",
        "      if(mat[i,j] > maxFromRows[i]):\n",
        "        maxFromRows[i] = mat[i,j]\n",
        "      if(mat[i,j] > maxFromCols[j]):\n",
        "        maxFromCols[j] = mat[i,j]\n",
        "  return (maxFromRows,maxFromCols)\n",
        "def showMaxInfo(maxFromRows, maxFromCols):\n",
        "  print(\"----MAX-INFO-----------------\")\n",
        "  i = 0\n",
        "  for x in maxFromRows:\n",
        "    print(\"Max dla wiersza o indeksie\",i,\":\",x)\n",
        "    i+=1\n",
        "  print(\"-----------------------------\")\n",
        "  i = 0\n",
        "  for x in maxFromCols:\n",
        "    print(\"Max dla kolumny o indeksie\",i,\":\",x)\n",
        "    i+=1\n",
        "  print(\"-----------------------------\")\n",
        "mat = np.random.randint(np.random.randint(-1000,1),np.random.randint(1,1002),size= (10,10))\n",
        "print(mat)\n",
        "maxFromRows, maxFromCols= maxOfRowsAndCols(mat)\n",
        "showMaxInfo(maxFromRows,maxFromCols)"
      ],
      "metadata": {
        "colab": {
          "base_uri": "https://localhost:8080/"
        },
        "id": "SFK3-rLNeoH-",
        "outputId": "521b18ca-8b3d-4307-920f-73cb84dfbf7a"
      },
      "execution_count": 69,
      "outputs": [
        {
          "output_type": "stream",
          "name": "stdout",
          "text": [
            "[[ 137 -136 -172   50  -69 -142  108 -327 -200 -230]\n",
            " [-218  -16  -90  -75 -172    3  -50   28  116 -283]\n",
            " [-369  130   71 -340  -92  105  -68  112 -151 -136]\n",
            " [-241  -20  -14 -298 -275  -34   18   41 -374   26]\n",
            " [ 158   95  126 -206  142  153   79 -356  -10 -297]\n",
            " [-144  -66  180  155 -108 -260  -74 -310   41  173]\n",
            " [  77  -95  -79 -247 -146  142 -274  -79   44 -321]\n",
            " [ 113   81   19 -210   93   -6  123 -331 -262 -120]\n",
            " [-203 -377 -133 -254 -164  -83 -135 -178   83 -116]\n",
            " [ 131 -143    2 -329  147 -348   47   58   27 -295]]\n",
            "----MAX-INFO-----------------\n",
            "Max dla wiersza o indeksie 0 : 137\n",
            "Max dla wiersza o indeksie 1 : 116\n",
            "Max dla wiersza o indeksie 2 : 130\n",
            "Max dla wiersza o indeksie 3 : 41\n",
            "Max dla wiersza o indeksie 4 : 158\n",
            "Max dla wiersza o indeksie 5 : 180\n",
            "Max dla wiersza o indeksie 6 : 142\n",
            "Max dla wiersza o indeksie 7 : 123\n",
            "Max dla wiersza o indeksie 8 : 83\n",
            "Max dla wiersza o indeksie 9 : 147\n",
            "-----------------------------\n",
            "Max dla kolumny o indeksie 0 : 158\n",
            "Max dla kolumny o indeksie 1 : 130\n",
            "Max dla kolumny o indeksie 2 : 180\n",
            "Max dla kolumny o indeksie 3 : 155\n",
            "Max dla kolumny o indeksie 4 : 147\n",
            "Max dla kolumny o indeksie 5 : 153\n",
            "Max dla kolumny o indeksie 6 : 123\n",
            "Max dla kolumny o indeksie 7 : 112\n",
            "Max dla kolumny o indeksie 8 : 116\n",
            "Max dla kolumny o indeksie 9 : 173\n",
            "-----------------------------\n"
          ]
        }
      ]
    },
    {
      "cell_type": "code",
      "execution_count": 71,
      "metadata": {
        "id": "GLU7RswJZCcz",
        "colab": {
          "base_uri": "https://localhost:8080/"
        },
        "outputId": "6014865f-b421-4208-b15a-d4eb5f0eb7ad"
      },
      "outputs": [
        {
          "output_type": "stream",
          "name": "stdout",
          "text": [
            "Macierz zer\n",
            " [[0. 0. 0. 0. 0.]\n",
            " [0. 0. 0. 0. 0.]\n",
            " [0. 0. 0. 0. 0.]\n",
            " [0. 0. 0. 0. 0.]\n",
            " [0. 0. 0. 0. 0.]]\n",
            "Macierz z jedynkami po bokach:\n",
            " [[1. 1. 1. 1. 1.]\n",
            " [1. 0. 0. 0. 1.]\n",
            " [1. 0. 0. 0. 1.]\n",
            " [1. 0. 0. 0. 1.]\n",
            " [1. 1. 1. 1. 1.]]\n",
            "Macierz z odwróconymi wartościami:\n",
            " [[0. 0. 0. 0. 0.]\n",
            " [0. 1. 1. 1. 0.]\n",
            " [0. 1. 1. 1. 0.]\n",
            " [0. 1. 1. 1. 0.]\n",
            " [0. 0. 0. 0. 0.]]\n"
          ]
        }
      ],
      "source": [
        "#zadanie 3.\n",
        "import numpy as np\n",
        "def change0to1(mat):\n",
        "  result = mat\n",
        "  for i in range(0,len(mat),1):\n",
        "    for j in range(0,len(mat[0]),1):\n",
        "      match mat[i][j]:\n",
        "        case 0: result[i][j]=1\n",
        "        case 1: result[i][j]=0\n",
        "  return result\n",
        "mat = np.zeros((5,5))\n",
        "print(\"Macierz zer\\n\",mat)\n",
        "for i in range(0,len(mat),1):\n",
        "  for j in range(0,len(mat[0]),1):\n",
        "    if(i == 0 or j==0 or i==4 or j==4):\n",
        "      mat[i,j] = 1\n",
        "print(\"Macierz z jedynkami po bokach:\\n\",mat)\n",
        "print(\"Macierz z odwróconymi wartościami:\\n\",change0to1(mat))\n"
      ]
    },
    {
      "cell_type": "code",
      "source": [
        "#zadanie 4.\n",
        "import numpy as np\n",
        "#a\n",
        "def matrixAdd(mat1,mat2):\n",
        "  if(len(mat1) == len(mat2) and len(mat1[0]) == len(mat2[0])):\n",
        "    result = np.zeros((len(mat1),len(mat1[0])))\n",
        "    for i in range(0,len(mat1),1):\n",
        "      for j in range(0,len(mat1[0]),1):\n",
        "        result[i,j] = mat1[i,j] + mat2[i,j]\n",
        "    return result\n",
        "  else:\n",
        "    print(\"Błędne rozmiary macierzy.\")\n",
        "    result = np.zeros(0)\n",
        "    return result\n",
        "#b\n",
        "def matrixSub(mat1,mat2):\n",
        "  if(len(mat1) == len(mat2) and len(mat1[0]) == len(mat2[0])):\n",
        "    result = np.zeros((len(mat1),len(mat1[0])))\n",
        "    for i in range(0,len(mat1),1):\n",
        "      for j in range(0,len(mat1[0]),1):\n",
        "        result[i,j] = mat1[i,j] - mat2[i,j]\n",
        "    return result\n",
        "  else:\n",
        "    print(\"Błędne rozmiary macierzy.\")\n",
        "    result = np.zeros(0)\n",
        "    return result\n",
        "#c\n",
        "def matrixMul(mat1,mat2):\n",
        "  if(len(mat1[0]) == len(mat2)):\n",
        "    result = np.zeros((len(mat1),len(mat2[0])))\n",
        "    for i in range(0,len(mat1),1):\n",
        "      for j in range(0,len(mat2[0]),1):\n",
        "        for k in range(0,len(mat1[0]),1):\n",
        "          result[i][j] = mat1[i,k] * mat2[j,k]\n",
        "    return result\n",
        "  else:\n",
        "    print(\"Błędne rozmiary macierzy.\")\n",
        "    result = np.zeros(0);\n",
        "    return result\n",
        "#d\n",
        "def matrixmul2div10(mat):\n",
        "  result = np.zeros((len(mat), len(mat[0])))\n",
        "  for i in range(0,len(mat),1):\n",
        "    for j in range(0,len(mat[0]),1):\n",
        "      result[i,j] = (mat[i,j]*2)/10\n",
        "  return result\n",
        "#e\n",
        "def matrixShowCentralValue(mat):\n",
        "  return mat[int(len(mat)/2),int(len(mat[0])/2)]\n",
        "def matrixToVector(mat):\n",
        "  rc = len(mat)\n",
        "  lc = len(mat[0])\n",
        "  result = np.zeros(rc*lc)\n",
        "  i = 0\n",
        "  for j in range(0,rc,1):\n",
        "    for k in range(0,lc,1):\n",
        "      result[i] = mat[j,k]\n",
        "      i+=1\n",
        "  return result;\n",
        "mat1 = np.random.randint(np.random.randint(-1000,1),np.random.randint(1,1002),size= (5,5))\n",
        "mat2 = np.random.randint(np.random.randint(-1000,1),np.random.randint(1,1002),size= (5,5))\n",
        "print(\"mat1:\\n\",mat1)\n",
        "print(\"mat2:\\n\",mat2)\n",
        "#a\n",
        "mat3 = matrixAdd(mat1,mat2)\n",
        "print(\"a) suma:\\n\",mat3)\n",
        "#b\n",
        "mat4 = matrixSub(mat1,mat2)\n",
        "print(\"b) różnica:\\n\",mat4)\n",
        "#c\n",
        "mat5 = matrixMul(mat1,mat2)\n",
        "print(\"c) mnożenie:\\n\",mat5)\n",
        "#d\n",
        "mat6 = matrixmul2div10(mat1)\n",
        "print(\"d) mat1*2/10:\\n\",mat6)\n",
        "#e\n",
        "print(\"e) środkowe wartości:\\nmat1: \",matrixShowCentralValue(mat1),\"\\tmat2: \",matrixShowCentralValue(mat2))\n",
        "#f\n",
        "vec = matrixToVector(mat1)\n",
        "print(\"f) vektor z macierzy mat1:\\n\",vec)"
      ],
      "metadata": {
        "colab": {
          "base_uri": "https://localhost:8080/"
        },
        "id": "2kLB8joPsUHR",
        "outputId": "e13254e3-2b05-47fb-e462-94c1ddda9a23"
      },
      "execution_count": 75,
      "outputs": [
        {
          "output_type": "stream",
          "name": "stdout",
          "text": [
            "mat1:\n",
            " [[ 462   88  -77  431 -337]\n",
            " [-338  216   14  -50 -497]\n",
            " [ 298  -74 -369  172 -322]\n",
            " [-148 -421  480  -21  407]\n",
            " [ -55 -229 -384   90  -30]]\n",
            "mat2:\n",
            " [[-249  357  426 -123 -137]\n",
            " [-197 -125  -47  343  508]\n",
            " [ 649  527  121 -301  619]\n",
            " [  46  290  214 -212  226]\n",
            " [ 656  412  375  537  685]]\n",
            "a) suma:\n",
            " [[ 213.  445.  349.  308. -474.]\n",
            " [-535.   91.  -33.  293.   11.]\n",
            " [ 947.  453. -248. -129.  297.]\n",
            " [-102. -131.  694. -233.  633.]\n",
            " [ 601.  183.   -9.  627.  655.]]\n",
            "b) różnica:\n",
            " [[  711.  -269.  -503.   554.  -200.]\n",
            " [ -141.   341.    61.  -393. -1005.]\n",
            " [ -351.  -601.  -490.   473.  -941.]\n",
            " [ -194.  -711.   266.   191.   181.]\n",
            " [ -711.  -641.  -759.  -447.  -715.]]\n",
            "c) mnożenie:\n",
            " [[  46169. -171196. -208603.  -76162. -230845.]\n",
            " [  68089. -252476. -307643. -112322. -340445.]\n",
            " [  44114. -163576. -199318.  -72772. -220570.]\n",
            " [ -55759.  206756.  251933.   91982.  278795.]\n",
            " [   4110.  -15240.  -18570.   -6780.  -20550.]]\n",
            "d) mat1*2/10:\n",
            " [[ 92.4  17.6 -15.4  86.2 -67.4]\n",
            " [-67.6  43.2   2.8 -10.  -99.4]\n",
            " [ 59.6 -14.8 -73.8  34.4 -64.4]\n",
            " [-29.6 -84.2  96.   -4.2  81.4]\n",
            " [-11.  -45.8 -76.8  18.   -6. ]]\n",
            "e) środkowe wartości:\n",
            "mat1:  -369 \tmat2:  121\n",
            "f) vektor z macierzy mat1:\n",
            " [ 462.   88.  -77.  431. -337. -338.  216.   14.  -50. -497.  298.  -74.\n",
            " -369.  172. -322. -148. -421.  480.  -21.  407.  -55. -229. -384.   90.\n",
            "  -30.]\n"
          ]
        }
      ]
    },
    {
      "cell_type": "code",
      "source": [
        "\n"
      ],
      "metadata": {
        "id": "OWPNjwCJ0hZ8"
      },
      "execution_count": null,
      "outputs": []
    }
  ],
  "metadata": {
    "colab": {
      "provenance": []
    },
    "kernelspec": {
      "display_name": "Python 3",
      "name": "python3"
    },
    "language_info": {
      "name": "python"
    }
  },
  "nbformat": 4,
  "nbformat_minor": 0
}